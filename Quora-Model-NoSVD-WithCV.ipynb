{
 "cells": [
  {
   "cell_type": "markdown",
   "id": "add84e6f",
   "metadata": {},
   "source": [
    "## Reference: \n",
    "### https://scikit-learn.org/stable/modules/generated/sklearn.ensemble.GradientBoostingClassifier.html\n",
    "### https://towardsdatascience.com/the-quora-question-pair-similarity-problem-3598477af172"
   ]
  },
  {
   "cell_type": "code",
   "execution_count": 1,
   "id": "3d74ec30",
   "metadata": {},
   "outputs": [],
   "source": [
    "import pandas as pd\n",
    "import numpy as np\n",
    "from sklearn.metrics import accuracy_score\n",
    "from sklearn.model_selection import train_test_split\n",
    "from sklearn.metrics import classification_report, confusion_matrix, accuracy_score\n",
    "import gc\n",
    "import xgboost as xgb\n",
    "import time\n",
    "import pickle\n",
    "from sklearn.metrics import classification_report\n",
    "from sklearn.metrics import log_loss\n",
    "from sklearn.metrics import roc_auc_score\n",
    "from imblearn.over_sampling import RandomOverSampler\n",
    "from sklearn.preprocessing import StandardScaler"
   ]
  },
  {
   "cell_type": "markdown",
   "id": "56075048",
   "metadata": {},
   "source": [
    "## Read dataset"
   ]
  },
  {
   "cell_type": "code",
   "execution_count": 2,
   "id": "a0bd8f67",
   "metadata": {},
   "outputs": [],
   "source": [
    "df = pd.read_csv(\"Final_Training_V01.csv\")\n",
    "# Seed for reproducability\n",
    "seed = 1234\n",
    "np.random.seed(seed)\n",
    "X_raw = df.copy()\n",
    "X_raw.drop(columns=[\"is_duplicate\"], inplace=True)\n",
    "y_raw = df[\"is_duplicate\"]"
   ]
  },
  {
   "cell_type": "code",
   "execution_count": 3,
   "id": "8cedfff7",
   "metadata": {},
   "outputs": [
    {
     "data": {
      "text/plain": [
       "<AxesSubplot:>"
      ]
     },
     "execution_count": 3,
     "metadata": {},
     "output_type": "execute_result"
    },
    {
     "data": {
      "image/png": "[encoded data removed]",
      "text/plain": [
       "<Figure size 432x288 with 1 Axes>"
      ]
     },
     "metadata": {
      "needs_background": "light"
     },
     "output_type": "display_data"
    }
   ],
   "source": [
    "y_raw.value_counts().plot(kind='bar')"
   ]
  },
  {
   "cell_type": "markdown",
   "id": "bf707b21",
   "metadata": {},
   "source": [
    "## Balance Dataset"
   ]
  },
  {
   "cell_type": "code",
   "execution_count": 4,
   "id": "33631faa",
   "metadata": {},
   "outputs": [],
   "source": [
    "over = RandomOverSampler(sampling_strategy=\"minority\")\n",
    "X, y = over.fit_resample(X_raw, y_raw)"
   ]
  },
  {
   "cell_type": "code",
   "execution_count": 5,
   "id": "ab749c47",
   "metadata": {},
   "outputs": [
    {
     "data": {
      "text/plain": [
       "<AxesSubplot:>"
      ]
     },
     "execution_count": 5,
     "metadata": {},
     "output_type": "execute_result"
    },
    {
     "data": {
      "image/png": "[encoded data removed]",
      "text/plain": [
       "<Figure size 432x288 with 1 Axes>"
      ]
     },
     "metadata": {
      "needs_background": "light"
     },
     "output_type": "display_data"
    }
   ],
   "source": [
    "y.value_counts().plot(kind='bar')"
   ]
  },
  {
   "cell_type": "markdown",
   "id": "ffd9a866",
   "metadata": {},
   "source": [
    "## Normalize the dataset"
   ]
  },
  {
   "cell_type": "code",
   "execution_count": 6,
   "id": "daf88c9e",
   "metadata": {},
   "outputs": [],
   "source": [
    "#Normalize the dataset\n",
    "from sklearn.preprocessing import StandardScaler\n",
    "#Normalize the dataset\n",
    "sc = StandardScaler()\n",
    "X_normalized = sc.fit_transform(X)"
   ]
  },
  {
   "cell_type": "markdown",
   "id": "f3a0ebfc",
   "metadata": {},
   "source": [
    "## Split train and test data"
   ]
  },
  {
   "cell_type": "code",
   "execution_count": 7,
   "id": "7abc17a8",
   "metadata": {},
   "outputs": [],
   "source": [
    "X_train, X_valid, y_train, y_valid = train_test_split(X_normalized, \n",
    "                                                      y, \n",
    "                                                      test_size=0.20, \n",
    "                                                      random_state=seed)"
   ]
  },
  {
   "cell_type": "code",
   "execution_count": 8,
   "id": "17b43713",
   "metadata": {},
   "outputs": [
    {
     "data": {
      "text/plain": [
       "((326435, 626), (81609, 626), (326435,), (81609,))"
      ]
     },
     "execution_count": 8,
     "metadata": {},
     "output_type": "execute_result"
    }
   ],
   "source": [
    "X_train.shape, X_valid.shape, y_train.shape, y_valid.shape"
   ]
  },
  {
   "cell_type": "code",
   "execution_count": 9,
   "id": "56ca89b4",
   "metadata": {},
   "outputs": [
    {
     "data": {
      "text/plain": [
       "0"
      ]
     },
     "execution_count": 9,
     "metadata": {},
     "output_type": "execute_result"
    }
   ],
   "source": [
    "gc.collect()"
   ]
  },
  {
   "cell_type": "markdown",
   "id": "c00f5e30",
   "metadata": {},
   "source": [
    "## Implement XGBoost Cross Validation"
   ]
  },
  {
   "cell_type": "code",
   "execution_count": 10,
   "id": "9595532c",
   "metadata": {},
   "outputs": [],
   "source": [
    "#Define XGBoost parameters\n",
    "params = dict(\n",
    "            objective = \"binary:logistic\",\n",
    "            eval_metric = \"logloss\",\n",
    "            #booster = \"gbtree\",\n",
    "            #tree_method = \"hist\",\n",
    "            #grow_policy = \"lossguide\",\n",
    "            max_depth = 4,\n",
    "            eta = 0.1\n",
    "        )"
   ]
  },
  {
   "cell_type": "code",
   "execution_count": 12,
   "id": "442ba2ef",
   "metadata": {},
   "outputs": [],
   "source": [
    "dtrain = xgb.DMatrix(X_train, label=y_train)\n",
    "dvalid = xgb.DMatrix(X_valid, label=y_valid)"
   ]
  },
  {
   "cell_type": "code",
   "execution_count": 12,
   "id": "51bb691e",
   "metadata": {},
   "outputs": [],
   "source": [
    "dataset = [(dtrain, 'train'), (dvalid, 'valid')]"
   ]
  },
  {
   "cell_type": "code",
   "execution_count": 13,
   "id": "180f7b6b",
   "metadata": {},
   "outputs": [
    {
     "name": "stderr",
     "output_type": "stream",
     "text": [
      "/Users/snehalkarad/Library/Python/3.9/lib/python/site-packages/xgboost/core.py:525: FutureWarning: Pass `evals` as keyword args.  Passing these as positional arguments will be considered as error in future releases.\n",
      "  warnings.warn(\n"
     ]
    },
    {
     "name": "stdout",
     "output_type": "stream",
     "text": [
      "[0]\ttrain-logloss:0.65469\tvalid-logloss:0.65438\n",
      "[10]\ttrain-logloss:0.47444\tvalid-logloss:0.47188\n",
      "[20]\ttrain-logloss:0.42026\tvalid-logloss:0.41684\n",
      "[30]\ttrain-logloss:0.39805\tvalid-logloss:0.39459\n",
      "[40]\ttrain-logloss:0.38554\tvalid-logloss:0.38222\n",
      "[50]\ttrain-logloss:0.37686\tvalid-logloss:0.37388\n",
      "[60]\ttrain-logloss:0.37004\tvalid-logloss:0.36749\n",
      "[70]\ttrain-logloss:0.36533\tvalid-logloss:0.36312\n",
      "[80]\ttrain-logloss:0.36069\tvalid-logloss:0.35902\n",
      "[90]\ttrain-logloss:0.35639\tvalid-logloss:0.35518\n",
      "[100]\ttrain-logloss:0.35292\tvalid-logloss:0.35221\n",
      "[110]\ttrain-logloss:0.35013\tvalid-logloss:0.34987\n",
      "[120]\ttrain-logloss:0.34721\tvalid-logloss:0.34733\n",
      "[130]\ttrain-logloss:0.34481\tvalid-logloss:0.34536\n",
      "[140]\ttrain-logloss:0.34231\tvalid-logloss:0.34332\n",
      "[150]\ttrain-logloss:0.34003\tvalid-logloss:0.34157\n",
      "[160]\ttrain-logloss:0.33782\tvalid-logloss:0.33975\n",
      "[170]\ttrain-logloss:0.33572\tvalid-logloss:0.33806\n",
      "[180]\ttrain-logloss:0.33362\tvalid-logloss:0.33643\n",
      "[190]\ttrain-logloss:0.33178\tvalid-logloss:0.33498\n",
      "[200]\ttrain-logloss:0.33011\tvalid-logloss:0.33385\n",
      "[210]\ttrain-logloss:0.32857\tvalid-logloss:0.33277\n",
      "[220]\ttrain-logloss:0.32683\tvalid-logloss:0.33144\n",
      "[230]\ttrain-logloss:0.32494\tvalid-logloss:0.32998\n",
      "[240]\ttrain-logloss:0.32355\tvalid-logloss:0.32906\n",
      "[250]\ttrain-logloss:0.32226\tvalid-logloss:0.32825\n",
      "[260]\ttrain-logloss:0.32104\tvalid-logloss:0.32745\n",
      "[270]\ttrain-logloss:0.31970\tvalid-logloss:0.32661\n",
      "[280]\ttrain-logloss:0.31844\tvalid-logloss:0.32592\n",
      "[290]\ttrain-logloss:0.31721\tvalid-logloss:0.32523\n",
      "[300]\ttrain-logloss:0.31606\tvalid-logloss:0.32446\n",
      "[310]\ttrain-logloss:0.31481\tvalid-logloss:0.32365\n",
      "[320]\ttrain-logloss:0.31374\tvalid-logloss:0.32306\n",
      "[330]\ttrain-logloss:0.31269\tvalid-logloss:0.32242\n",
      "[340]\ttrain-logloss:0.31169\tvalid-logloss:0.32182\n",
      "[350]\ttrain-logloss:0.31049\tvalid-logloss:0.32107\n",
      "[360]\ttrain-logloss:0.30957\tvalid-logloss:0.32058\n",
      "[370]\ttrain-logloss:0.30847\tvalid-logloss:0.31990\n",
      "[380]\ttrain-logloss:0.30727\tvalid-logloss:0.31913\n",
      "[390]\ttrain-logloss:0.30614\tvalid-logloss:0.31844\n",
      "[400]\ttrain-logloss:0.30529\tvalid-logloss:0.31797\n",
      "[410]\ttrain-logloss:0.30417\tvalid-logloss:0.31732\n",
      "[420]\ttrain-logloss:0.30308\tvalid-logloss:0.31667\n",
      "[430]\ttrain-logloss:0.30223\tvalid-logloss:0.31624\n",
      "[440]\ttrain-logloss:0.30138\tvalid-logloss:0.31579\n",
      "[450]\ttrain-logloss:0.30060\tvalid-logloss:0.31538\n",
      "[460]\ttrain-logloss:0.29957\tvalid-logloss:0.31481\n",
      "[470]\ttrain-logloss:0.29868\tvalid-logloss:0.31428\n",
      "[480]\ttrain-logloss:0.29790\tvalid-logloss:0.31383\n",
      "[490]\ttrain-logloss:0.29695\tvalid-logloss:0.31329\n",
      "[500]\ttrain-logloss:0.29606\tvalid-logloss:0.31276\n",
      "[510]\ttrain-logloss:0.29518\tvalid-logloss:0.31217\n",
      "[520]\ttrain-logloss:0.29421\tvalid-logloss:0.31162\n",
      "[530]\ttrain-logloss:0.29334\tvalid-logloss:0.31119\n",
      "[540]\ttrain-logloss:0.29272\tvalid-logloss:0.31087\n",
      "[550]\ttrain-logloss:0.29181\tvalid-logloss:0.31036\n",
      "[560]\ttrain-logloss:0.29099\tvalid-logloss:0.30989\n",
      "[570]\ttrain-logloss:0.29013\tvalid-logloss:0.30941\n",
      "[580]\ttrain-logloss:0.28936\tvalid-logloss:0.30906\n",
      "[590]\ttrain-logloss:0.28855\tvalid-logloss:0.30867\n",
      "[599]\ttrain-logloss:0.28785\tvalid-logloss:0.30830\n",
      "XGBoost Cross Validation Total Time: 6837.172978878021\n"
     ]
    }
   ],
   "source": [
    "start_time = time.time()\n",
    "xgb_model = xgb.train(params, dtrain, 600, dataset, early_stopping_rounds=20, verbose_eval=10)\n",
    "print(\"XGBoost Cross Validation Total Time:\", time.time() - start_time)"
   ]
  },
  {
   "cell_type": "code",
   "execution_count": 14,
   "id": "e9745642",
   "metadata": {},
   "outputs": [],
   "source": [
    "y_pred = xgb_model.predict(dvalid)"
   ]
  },
  {
   "cell_type": "code",
   "execution_count": 15,
   "id": "d2c5ed0b",
   "metadata": {},
   "outputs": [
    {
     "data": {
      "text/plain": [
       "array([0.41368106, 0.80220824, 0.12333518, ..., 0.97210175, 0.74521035,\n",
       "       0.4525213 ], dtype=float32)"
      ]
     },
     "execution_count": 15,
     "metadata": {},
     "output_type": "execute_result"
    }
   ],
   "source": [
    "y_pred"
   ]
  },
  {
   "cell_type": "code",
   "execution_count": 16,
   "id": "ec58aac2",
   "metadata": {},
   "outputs": [],
   "source": [
    "y_pred_binary = []\n",
    "for i in y_pred:\n",
    "    if i >= 0.5:\n",
    "        y_pred_binary.append(1)\n",
    "    else:\n",
    "        y_pred_binary.append(0)"
   ]
  },
  {
   "cell_type": "code",
   "execution_count": 17,
   "id": "01c963c5",
   "metadata": {},
   "outputs": [
    {
     "data": {
      "text/plain": [
       "0.8571971228663505"
      ]
     },
     "execution_count": 17,
     "metadata": {},
     "output_type": "execute_result"
    }
   ],
   "source": [
    "accuracy_score(y_valid, y_pred_binary)"
   ]
  },
  {
   "cell_type": "code",
   "execution_count": 18,
   "id": "0753d383",
   "metadata": {},
   "outputs": [
    {
     "data": {
      "text/plain": [
       "0.30830253593412493"
      ]
     },
     "execution_count": 18,
     "metadata": {},
     "output_type": "execute_result"
    }
   ],
   "source": [
    "log_loss(y_valid, y_pred)"
   ]
  },
  {
   "cell_type": "code",
   "execution_count": 20,
   "id": "f4e9d700",
   "metadata": {},
   "outputs": [],
   "source": [
    "pickle.dump(xgb_model, open('xgboost_withoutSVD_withCV_withSmote.pkl', 'wb'))"
   ]
  },
  {
   "cell_type": "code",
   "execution_count": 21,
   "id": "94809ac7",
   "metadata": {},
   "outputs": [
    {
     "data": {
      "text/plain": [
       "37"
      ]
     },
     "execution_count": 21,
     "metadata": {},
     "output_type": "execute_result"
    }
   ],
   "source": [
    "#Clear the memory with Garbage Collect\n",
    "gc.collect()"
   ]
  },
  {
   "cell_type": "markdown",
   "id": "d3b5fd64",
   "metadata": {},
   "source": [
    "## Load pickle file"
   ]
  },
  {
   "cell_type": "code",
   "execution_count": 10,
   "id": "2aab7463",
   "metadata": {},
   "outputs": [],
   "source": [
    "loaded_model = pickle.load(open(\"xgboost_withoutSVD_withCV_withSmote.pkl\", 'rb'))"
   ]
  },
  {
   "cell_type": "code",
   "execution_count": 13,
   "id": "e9a967eb",
   "metadata": {},
   "outputs": [],
   "source": [
    "y_pred = loaded_model.predict(dvalid)"
   ]
  },
  {
   "cell_type": "code",
   "execution_count": 14,
   "id": "6bb07b0d",
   "metadata": {},
   "outputs": [],
   "source": [
    "y_pred_binary = []\n",
    "for i in y_pred:\n",
    "    if i >= 0.5:\n",
    "        y_pred_binary.append(1)\n",
    "    else:\n",
    "        y_pred_binary.append(0)"
   ]
  },
  {
   "cell_type": "code",
   "execution_count": 17,
   "id": "62743528",
   "metadata": {},
   "outputs": [
    {
     "name": "stdout",
     "output_type": "stream",
     "text": [
      "Confusion Matrix: \n",
      " [[33631  7115]\n",
      " [ 4539 36324]]\n",
      "\n",
      "Classification Report: \n",
      "               precision    recall  f1-score   support\n",
      "\n",
      "           0       0.88      0.83      0.85     40746\n",
      "           1       0.84      0.89      0.86     40863\n",
      "\n",
      "    accuracy                           0.86     81609\n",
      "   macro avg       0.86      0.86      0.86     81609\n",
      "weighted avg       0.86      0.86      0.86     81609\n",
      "\n",
      "Accuracy Score:  0.8571971228663505\n",
      "\n",
      "Log Loss:  4.9323063539806276\n",
      "\n",
      "Log Loss:  0.30830253593412493\n",
      "\n",
      "AUC:  0.8571515753983884\n"
     ]
    }
   ],
   "source": [
    "print(\"Confusion Matrix: \\n\",confusion_matrix(y_valid, y_pred_binary))\n",
    "print(\"\\nClassification Report: \\n\", classification_report(y_valid, y_pred_binary))\n",
    "print(\"Accuracy Score: \", accuracy_score(y_valid, y_pred_binary))\n",
    "print(\"\\nLog Loss: \", log_loss(y_valid, y_pred_binary))\n",
    "print(\"\\nLog Loss: \", log_loss(y_valid, y_pred))\n",
    "print(\"\\nAUC: \", roc_auc_score(y_valid, y_pred_binary))"
   ]
  },
  {
   "cell_type": "code",
   "execution_count": 16,
   "id": "d88fec48",
   "metadata": {},
   "outputs": [
    {
     "data": {
      "image/png": "[encoded data removed]",
      "text/plain": [
       "<Figure size 432x288 with 1 Axes>"
      ]
     },
     "metadata": {
      "needs_background": "light"
     },
     "output_type": "display_data"
    }
   ],
   "source": [
    "from sklearn.metrics import RocCurveDisplay\n",
    "import matplotlib.pyplot as plt\n",
    "RocCurveDisplay.from_predictions(y_valid, y_pred)\n",
    "plt.savefig('ROC', dpi=300)\n",
    "plt.show()"
   ]
  },
  {
   "cell_type": "markdown",
   "id": "3b6843e8",
   "metadata": {},
   "source": [
    "## Load train data"
   ]
  },
  {
   "cell_type": "code",
   "execution_count": 7,
   "id": "fc683ed0",
   "metadata": {},
   "outputs": [],
   "source": [
    "df_test = pd.read_csv(\"Final_Test_V01.csv\")\n",
    "x_test = df_test.copy()\n",
    "x_test.drop(columns=[\"is_duplicate\"], inplace=True)\n",
    "y_test = df_test[\"is_duplicate\"]"
   ]
  },
  {
   "cell_type": "code",
   "execution_count": 13,
   "id": "aa877519",
   "metadata": {},
   "outputs": [],
   "source": [
    "#Normalize the dataset\n",
    "sc = StandardScaler()\n",
    "x_test_normalized = sc.fit_transform(x_test)"
   ]
  },
  {
   "cell_type": "code",
   "execution_count": 14,
   "id": "a816b6da",
   "metadata": {},
   "outputs": [],
   "source": [
    "dtest = xgb.DMatrix(x_test_normalized, label=y_test)"
   ]
  },
  {
   "cell_type": "code",
   "execution_count": 16,
   "id": "666753ca",
   "metadata": {},
   "outputs": [],
   "source": [
    "y_test_pred = loaded_model.predict(dtest)"
   ]
  },
  {
   "cell_type": "code",
   "execution_count": 18,
   "id": "520b4b67",
   "metadata": {},
   "outputs": [],
   "source": [
    "y_test_pred_binary = []\n",
    "for i in y_test_pred:\n",
    "    if i >= 0.5:\n",
    "        y_test_pred_binary.append(1)\n",
    "    else:\n",
    "        y_test_pred_binary.append(0)"
   ]
  },
  {
   "cell_type": "code",
   "execution_count": 19,
   "id": "db127803",
   "metadata": {},
   "outputs": [
    {
     "name": "stdout",
     "output_type": "stream",
     "text": [
      "Confusion Matrix: \n",
      " [[40585 10420]\n",
      " [ 3417 26436]]\n",
      "\n",
      "Classification Report: \n",
      "               precision    recall  f1-score   support\n",
      "\n",
      "           0       0.92      0.80      0.85     51005\n",
      "           1       0.72      0.89      0.79     29853\n",
      "\n",
      "    accuracy                           0.83     80858\n",
      "   macro avg       0.82      0.84      0.82     80858\n",
      "weighted avg       0.85      0.83      0.83     80858\n",
      "\n",
      "Accuracy Score:  0.8288728388038289\n",
      "\n",
      "Log Loss:  5.9106257980855545\n",
      "\n",
      "Log Loss:  0.3457273727654479\n",
      "\n",
      "AUC:  0.8406227225491962\n"
     ]
    }
   ],
   "source": [
    "print(\"Confusion Matrix: \\n\",confusion_matrix(y_test, y_test_pred_binary))\n",
    "print(\"\\nClassification Report: \\n\", classification_report(y_test, y_test_pred_binary))\n",
    "print(\"Accuracy Score: \", accuracy_score(y_test, y_test_pred_binary))\n",
    "#print(\"\\nLog Loss: \", log_loss(y_test, y_test_pred_binary))\n",
    "print(\"\\nLog Loss: \", log_loss(y_test, y_test_pred))\n",
    "print(\"\\nAUC: \", roc_auc_score(y_test, y_test_pred_binary))"
   ]
  },
  {
   "cell_type": "code",
   "execution_count": 20,
   "id": "c39c93e9",
   "metadata": {},
   "outputs": [
    {
     "data": {
      "image/png": "[encoded data removed]",
      "text/plain": [
       "<Figure size 432x288 with 1 Axes>"
      ]
     },
     "metadata": {
      "needs_background": "light"
     },
     "output_type": "display_data"
    }
   ],
   "source": [
    "from sklearn.metrics import RocCurveDisplay\n",
    "import matplotlib.pyplot as plt\n",
    "RocCurveDisplay.from_predictions(y_test, y_test_pred)\n",
    "plt.savefig('ROC', dpi=300)\n",
    "plt.show()"
   ]
  },
  {
   "cell_type": "code",
   "execution_count": null,
   "id": "f5a065b7",
   "metadata": {},
   "outputs": [],
   "source": []
  }
 ],
 "metadata": {
  "kernelspec": {
   "display_name": "Python 3",
   "language": "python",
   "name": "python3"
  },
  "language_info": {
   "codemirror_mode": {
    "name": "ipython",
    "version": 3
   },
   "file_extension": ".py",
   "mimetype": "text/x-python",
   "name": "python",
   "nbconvert_exporter": "python",
   "pygments_lexer": "ipython3",
   "version": "3.9.7"
  }
 },
 "nbformat": 4,
 "nbformat_minor": 5
}
